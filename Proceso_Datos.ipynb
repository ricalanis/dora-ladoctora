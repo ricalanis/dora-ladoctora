{
 "cells": [
  {
   "cell_type": "markdown",
   "metadata": {},
   "source": [
    "## Objetivo"
   ]
  },
  {
   "cell_type": "markdown",
   "metadata": {},
   "source": [
    "Me interesa saber la distribución de los costos de productos adquiridos por la secretaría de salud. Esto es, ¿Cuánto de más o cuánto de menos se ha estado pagando? ¿Podemos detectar corrupción? ¿Comportamiento por distribuidores?"
   ]
  },
  {
   "cell_type": "markdown",
   "metadata": {},
   "source": [
    "## Obtener la data"
   ]
  },
  {
   "cell_type": "markdown",
   "metadata": {},
   "source": [
    "No logre encontrar los datos abiertos que alimentan: http://compras.imss.gob.mx/?P=search_alt Voy a proceder a scrappearlo."
   ]
  },
  {
   "cell_type": "markdown",
   "metadata": {},
   "source": [
    "Alto, están las compras consolidadas: Según HHealth (Gracias!) no son todas las compras. pero está chido para hacerme de un diccionario.\n",
    "http://www.imss.gob.mx/compraconsolidada2016"
   ]
  },
  {
   "cell_type": "code",
   "execution_count": 1,
   "metadata": {
    "collapsed": false
   },
   "outputs": [],
   "source": [
    "import requests as r\n",
    "import os\n",
    "import json\n",
    "from bs4 import BeautifulSoup"
   ]
  },
  {
   "cell_type": "code",
   "execution_count": 2,
   "metadata": {
    "collapsed": false
   },
   "outputs": [],
   "source": [
    "def products(field,page):\n",
    "    result = os.popen(\"curl 'http://buscador.compras.imss.gob.mx/index.php' -H 'Pragma: no-cache' -H 'Origin: http://buscador.compras.imss.gob.mx' -H 'Accept-Encoding: gzip, deflate' -H 'Accept-Language: es-ES,es;q=0.8,en;q=0.6' -H 'User-Agent: Mozilla/5.0 (Macintosh; Intel Mac OS X 10_12_4) AppleWebKit/537.36 (KHTML, like Gecko) Chrome/56.0.2924.87 Safari/537.36' -H 'Content-Type: application/x-www-form-urlencoded' -H 'Accept: */*' -H 'Cache-Control: no-cache' -H 'X-Requested-With: WAJAF::Ajax - WebAbility(r) v5' -H 'Cookie: __utma=37030712.222899114.1488655887.1488656746.1488656746.1; __utmb=37030712.1.10.1488656746; __utmc=37030712; __utmz=37030712.1488656746.1.1.utmcsr=(direct)|utmccn=(direct)|utmcmd=(none); __asc=9819a67f15a9ace2b0599c2b83a; __auc=9819a67f15a9ace2b0599c2b83a; _ga=GA1.3.222899114.1488655887' -H 'Connection: keep-alive' -H 'Referer: http://buscador.compras.imss.gob.mx/wrap/index.html' --data '&type=compras&message=X&filtered=1&descripcion=\"+field+\"&proveedor=&numcompra=&delegacion=values%3D&fecha=min%3D%3Bmax%3D&procedimiento=values%3D&exact=false&numperpage=20&page=\" + str(page)+\"&order=fecha%20desc' --compressed\").read()\n",
    "    return(json.loads(result))"
   ]
  },
  {
   "cell_type": "code",
   "execution_count": 17,
   "metadata": {
    "collapsed": false
   },
   "outputs": [],
   "source": [
    "first_page  =products(\" \",1)"
   ]
  },
  {
   "cell_type": "code",
   "execution_count": 8,
   "metadata": {
    "collapsed": false
   },
   "outputs": [
    {
     "data": {
      "text/plain": [
       "dict_keys(['id', 'exact', 'nquery', 'numperpage', 'quantity', 'page', 'data', 'time', 'near'])"
      ]
     },
     "execution_count": 8,
     "metadata": {},
     "output_type": "execute_result"
    }
   ],
   "source": [
    "first_page[\"result\"].keys()"
   ]
  },
  {
   "cell_type": "code",
   "execution_count": 18,
   "metadata": {
    "collapsed": true
   },
   "outputs": [],
   "source": [
    "import math"
   ]
  },
  {
   "cell_type": "code",
   "execution_count": 9,
   "metadata": {
    "collapsed": false
   },
   "outputs": [
    {
     "data": {
      "text/plain": [
       "2138520"
      ]
     },
     "execution_count": 9,
     "metadata": {},
     "output_type": "execute_result"
    }
   ],
   "source": [
    "int(first_page[\"result\"][\"quantity\"])"
   ]
  },
  {
   "cell_type": "code",
   "execution_count": 21,
   "metadata": {
    "collapsed": false
   },
   "outputs": [
    {
     "data": {
      "text/plain": [
       "106926"
      ]
     },
     "execution_count": 21,
     "metadata": {},
     "output_type": "execute_result"
    }
   ],
   "source": [
    "int(int(first_page[\"result\"][\"quantity\"])/20)"
   ]
  },
  {
   "cell_type": "code",
   "execution_count": 23,
   "metadata": {
    "collapsed": false
   },
   "outputs": [
    {
     "data": {
      "text/plain": [
       "[{'clave': '12174280',\n",
       "  'delegacion': None,\n",
       "  'descripcion': 'PEDMAN004',\n",
       "  'fecha': '',\n",
       "  'monto': '0.00',\n",
       "  'numcompra': None,\n",
       "  'procedimiento': None,\n",
       "  'proveedor': None},\n",
       " {'clave': '12174279',\n",
       "  'delegacion': None,\n",
       "  'descripcion': 'E252017',\n",
       "  'fecha': '',\n",
       "  'monto': '0.00',\n",
       "  'numcompra': None,\n",
       "  'procedimiento': None,\n",
       "  'proveedor': None},\n",
       " {'clave': '12174278',\n",
       "  'delegacion': None,\n",
       "  'descripcion': 'IA019GYR023E32',\n",
       "  'fecha': '',\n",
       "  'monto': '0.00',\n",
       "  'numcompra': None,\n",
       "  'procedimiento': None,\n",
       "  'proveedor': None},\n",
       " {'clave': '12174277',\n",
       "  'delegacion': None,\n",
       "  'descripcion': 'IA019GYR023E32',\n",
       "  'fecha': '',\n",
       "  'monto': '0.00',\n",
       "  'numcompra': None,\n",
       "  'procedimiento': None,\n",
       "  'proveedor': None},\n",
       " {'clave': '12168168',\n",
       "  'delegacion': None,\n",
       "  'descripcion': 'D7P0057',\n",
       "  'fecha': '',\n",
       "  'monto': '0.00',\n",
       "  'numcompra': None,\n",
       "  'procedimiento': None,\n",
       "  'proveedor': None},\n",
       " {'clave': '12168167',\n",
       "  'delegacion': None,\n",
       "  'descripcion': 'D7P0059',\n",
       "  'fecha': '',\n",
       "  'monto': '0.00',\n",
       "  'numcompra': None,\n",
       "  'procedimiento': None,\n",
       "  'proveedor': None},\n",
       " {'clave': '12168166',\n",
       "  'delegacion': None,\n",
       "  'descripcion': 'D7P0024',\n",
       "  'fecha': '',\n",
       "  'monto': '0.00',\n",
       "  'numcompra': None,\n",
       "  'procedimiento': None,\n",
       "  'proveedor': None},\n",
       " {'clave': '12168165',\n",
       "  'delegacion': None,\n",
       "  'descripcion': 'D7P0058',\n",
       "  'fecha': '',\n",
       "  'monto': '0.00',\n",
       "  'numcompra': None,\n",
       "  'procedimiento': None,\n",
       "  'proveedor': None},\n",
       " {'clave': '12168164',\n",
       "  'delegacion': None,\n",
       "  'descripcion': 'D7P0022',\n",
       "  'fecha': '',\n",
       "  'monto': '0.00',\n",
       "  'numcompra': None,\n",
       "  'procedimiento': None,\n",
       "  'proveedor': None},\n",
       " {'clave': '12168163',\n",
       "  'delegacion': None,\n",
       "  'descripcion': 'D7P0021',\n",
       "  'fecha': '',\n",
       "  'monto': '0.00',\n",
       "  'numcompra': None,\n",
       "  'procedimiento': None,\n",
       "  'proveedor': None},\n",
       " {'clave': '12168162',\n",
       "  'delegacion': None,\n",
       "  'descripcion': 'D7P0023',\n",
       "  'fecha': '',\n",
       "  'monto': '0.00',\n",
       "  'numcompra': None,\n",
       "  'procedimiento': None,\n",
       "  'proveedor': None},\n",
       " {'clave': '12168161',\n",
       "  'delegacion': None,\n",
       "  'descripcion': 'D7P0023',\n",
       "  'fecha': '',\n",
       "  'monto': '0.00',\n",
       "  'numcompra': None,\n",
       "  'procedimiento': None,\n",
       "  'proveedor': None},\n",
       " {'clave': '12168160',\n",
       "  'delegacion': None,\n",
       "  'descripcion': 'D7P0023',\n",
       "  'fecha': '',\n",
       "  'monto': '0.00',\n",
       "  'numcompra': None,\n",
       "  'procedimiento': None,\n",
       "  'proveedor': None},\n",
       " {'clave': '12168159',\n",
       "  'delegacion': None,\n",
       "  'descripcion': 'D7P0025',\n",
       "  'fecha': '',\n",
       "  'monto': '0.00',\n",
       "  'numcompra': None,\n",
       "  'procedimiento': None,\n",
       "  'proveedor': None},\n",
       " {'clave': '12168097',\n",
       "  'delegacion': None,\n",
       "  'descripcion': 'LA019GYR050E23',\n",
       "  'fecha': '',\n",
       "  'monto': '0.00',\n",
       "  'numcompra': None,\n",
       "  'procedimiento': None,\n",
       "  'proveedor': None},\n",
       " {'clave': '12168096',\n",
       "  'delegacion': None,\n",
       "  'descripcion': 'LA019GYR050E23',\n",
       "  'fecha': '',\n",
       "  'monto': '0.00',\n",
       "  'numcompra': None,\n",
       "  'procedimiento': None,\n",
       "  'proveedor': None},\n",
       " {'clave': '12168095',\n",
       "  'delegacion': None,\n",
       "  'descripcion': 'LA019GYR050E15',\n",
       "  'fecha': '',\n",
       "  'monto': '0.00',\n",
       "  'numcompra': None,\n",
       "  'procedimiento': None,\n",
       "  'proveedor': None},\n",
       " {'clave': '12168094',\n",
       "  'delegacion': None,\n",
       "  'descripcion': 'LA019GYR050E15',\n",
       "  'fecha': '',\n",
       "  'monto': '0.00',\n",
       "  'numcompra': None,\n",
       "  'procedimiento': None,\n",
       "  'proveedor': None},\n",
       " {'clave': '12168093',\n",
       "  'delegacion': None,\n",
       "  'descripcion': 'LA019GYR050E15',\n",
       "  'fecha': '',\n",
       "  'monto': '0.00',\n",
       "  'numcompra': None,\n",
       "  'procedimiento': None,\n",
       "  'proveedor': None},\n",
       " {'clave': '12168092',\n",
       "  'delegacion': None,\n",
       "  'descripcion': 'LA019GYR050E15',\n",
       "  'fecha': '',\n",
       "  'monto': '0.00',\n",
       "  'numcompra': None,\n",
       "  'procedimiento': None,\n",
       "  'proveedor': None}]"
      ]
     },
     "execution_count": 23,
     "metadata": {},
     "output_type": "execute_result"
    }
   ],
   "source": [
    "first_page[\"result\"][\"data\"]"
   ]
  },
  {
   "cell_type": "code",
   "execution_count": 11,
   "metadata": {
    "collapsed": false
   },
   "outputs": [],
   "source": [
    "def transaction(transaction_number):\n",
    "    transaction_page = \"http://compras.imss.gob.mx/?P=imsscomprofich&f=\"+ str(transaction_number)\n",
    "    content = r.get(transaction_page)\n",
    "    soup = BeautifulSoup(content.content)\n",
    "    local_data = {}\n",
    "    for span in soup.findAll(\"span\", {\"class\":\"txtdesccaja\"}):\n",
    "        split_span = span.text.replace(\"\\n\",\"\").strip().split(\":\")\n",
    "        name = split_span[0]\n",
    "        content = \" \".join(split_span[1:])\n",
    "        local_data[name]=content\n",
    "    return(local_data)"
   ]
  },
  {
   "cell_type": "code",
   "execution_count": 12,
   "metadata": {
    "collapsed": false
   },
   "outputs": [
    {
     "name": "stderr",
     "output_type": "stream",
     "text": [
      "/usr/local/lib/python3.4/site-packages/bs4/__init__.py:166: UserWarning: No parser was explicitly specified, so I'm using the best available HTML parser for this system (\"lxml\"). This usually isn't a problem, but if you run this code on another system, or in a different virtual environment, it may use a different parser and behave differently.\n",
      "\n",
      "To get rid of this warning, change this:\n",
      "\n",
      " BeautifulSoup([your markup])\n",
      "\n",
      "to this:\n",
      "\n",
      " BeautifulSoup([your markup], \"lxml\")\n",
      "\n",
      "  markup_type=markup_type))\n"
     ]
    },
    {
     "data": {
      "text/plain": [
       "{'# Factura': ' D17159',\n",
       " 'COMERCIAL HOSPITALARIA S.A DE C.V.': '',\n",
       " 'Cantidad recibida': ' 30',\n",
       " 'Cantidad solicitada': ' 30',\n",
       " 'Delegación del IMSS': ' Delegación Sonora',\n",
       " 'Descripción': ' TIRA REACTIVA PARA DETERMINACION SEMICUANTITATIVA DE GLUCOSA EN SANGRE CON   LIMITES DE DETECCION QUE VAN DE 20 A 800 MG/DL. FRASCO CON 50 TIRAS. TA.',\n",
       " 'Estado de la República': ' Sonora',\n",
       " 'Fecha factura': ' 17/02/17',\n",
       " 'IVA': ' 16',\n",
       " 'No. Procedimiento': ' 230',\n",
       " 'Precio': ' 294.00',\n",
       " 'Procedimiento de compra': 'Compra emergente en unidades de servicio',\n",
       " 'RFC': ' CHO011105F23 [Ver ficha del proveedor]',\n",
       " 'Subprocedimiento de compra': ' N/A',\n",
       " 'Unidad': ' TRA'}"
      ]
     },
     "execution_count": 12,
     "metadata": {},
     "output_type": "execute_result"
    }
   ],
   "source": [
    "transaction(12086888)"
   ]
  },
  {
   "cell_type": "code",
   "execution_count": 13,
   "metadata": {
    "collapsed": false
   },
   "outputs": [
    {
     "data": {
      "text/plain": [
       "{'# Factura': ' D17094',\n",
       " 'COMERCIAL HOSPITALARIA S.A DE C.V.': '',\n",
       " 'Cantidad recibida': ' 15',\n",
       " 'Cantidad solicitada': ' 15',\n",
       " 'Delegación del IMSS': ' Delegación Sonora',\n",
       " 'Descripción': ' RIFAMPICINA SUSPENSION ORAL CADA 5 ML CONTIENEN  RIFAMPICINA 100 MG ENVASE CON   120 ML Y DOSIFICADOR.',\n",
       " 'Estado de la República': ' Sonora',\n",
       " 'Fecha factura': ' 13/02/17',\n",
       " 'IVA': ' No contiene datos',\n",
       " 'No. Procedimiento': ' 171',\n",
       " 'Precio': ' 438.90',\n",
       " 'Procedimiento de compra': 'Compra emergente en unidades de servicio',\n",
       " 'RFC': ' CHO011105F23 [Ver ficha del proveedor]',\n",
       " 'Subprocedimiento de compra': ' N/A',\n",
       " 'Unidad': ' ENV'}"
      ]
     },
     "execution_count": 13,
     "metadata": {},
     "output_type": "execute_result"
    }
   ],
   "source": [
    "transaction(12086887)"
   ]
  },
  {
   "cell_type": "code",
   "execution_count": 14,
   "metadata": {
    "collapsed": true
   },
   "outputs": [],
   "source": [
    "def get_all_data():\n",
    "    first_page = search_page(\" \",1)\n",
    "    data = first_page[\"result\"][\"data\"]\n",
    "    hits = int(first_page[\"result\"][\"quantity\"])\n",
    "    pages = floor(hits/20) + 1\n",
    "    i = 1\n",
    "    while i<=pages:\n",
    "        try:\n",
    "            page_data = search_page(\" \",i)\n",
    "            data = data + page_data[\"result\"][\"data\"]\n",
    "            i = i +1\n",
    "        except:\n",
    "            None\n",
    "    return(data)"
   ]
  },
  {
   "cell_type": "code",
   "execution_count": 15,
   "metadata": {
    "collapsed": false
   },
   "outputs": [
    {
     "ename": "NameError",
     "evalue": "name 'results' is not defined",
     "output_type": "error",
     "traceback": [
      "\u001b[0;31m---------------------------------------------------------------------------\u001b[0m",
      "\u001b[0;31mNameError\u001b[0m                                 Traceback (most recent call last)",
      "\u001b[0;32m<ipython-input-15-32e9540168e4>\u001b[0m in \u001b[0;36m<module>\u001b[0;34m()\u001b[0m\n\u001b[1;32m      1\u001b[0m \u001b[0;32mimport\u001b[0m \u001b[0mmath\u001b[0m\u001b[0;34m\u001b[0m\u001b[0m\n\u001b[0;32m----> 2\u001b[0;31m \u001b[0mmath\u001b[0m\u001b[0;34m.\u001b[0m\u001b[0mfloor\u001b[0m\u001b[0;34m(\u001b[0m\u001b[0mint\u001b[0m\u001b[0;34m(\u001b[0m\u001b[0mresults\u001b[0m\u001b[0;34m[\u001b[0m\u001b[0;34m\"result\"\u001b[0m\u001b[0;34m]\u001b[0m\u001b[0;34m[\u001b[0m\u001b[0;34m\"quantity\"\u001b[0m\u001b[0;34m]\u001b[0m\u001b[0;34m)\u001b[0m\u001b[0;34m/\u001b[0m\u001b[0;36m20\u001b[0m\u001b[0;34m)\u001b[0m\u001b[0;34m+\u001b[0m\u001b[0;36m1\u001b[0m\u001b[0;34m\u001b[0m\u001b[0m\n\u001b[0m",
      "\u001b[0;31mNameError\u001b[0m: name 'results' is not defined"
     ]
    }
   ],
   "source": [
    "import math\n",
    "math.floor(int(results[\"result\"][\"quantity\"])/20)+1"
   ]
  },
  {
   "cell_type": "code",
   "execution_count": null,
   "metadata": {
    "collapsed": false
   },
   "outputs": [],
   "source": [
    "results"
   ]
  },
  {
   "cell_type": "code",
   "execution_count": null,
   "metadata": {
    "collapsed": true
   },
   "outputs": [],
   "source": [
    "results = search_page(\" \",3)"
   ]
  },
  {
   "cell_type": "code",
   "execution_count": null,
   "metadata": {
    "collapsed": false
   },
   "outputs": [],
   "source": [
    "results"
   ]
  },
  {
   "cell_type": "code",
   "execution_count": 22,
   "metadata": {
    "collapsed": false
   },
   "outputs": [
    {
     "name": "stdout",
     "output_type": "stream",
     "text": [
      "1\n",
      "2\n",
      "3\n",
      "4\n"
     ]
    }
   ],
   "source": [
    "for i in range(1,5):\n",
    "    print(i)"
   ]
  },
  {
   "cell_type": "code",
   "execution_count": 26,
   "metadata": {
    "collapsed": true
   },
   "outputs": [],
   "source": [
    "currentPageFile = \"pagefile.txt\""
   ]
  },
  {
   "cell_type": "code",
   "execution_count": 27,
   "metadata": {
    "collapsed": true
   },
   "outputs": [],
   "source": [
    "def writePage(number):\n",
    "    f = open('myfile', 'w')\n",
    "    f.write('hi there\\n')  # python will convert \\n to os.linesep\n",
    "    f.close()  # you can omit in most cases as the destructor will call it\n",
    "    return"
   ]
  },
  {
   "cell_type": "code",
   "execution_count": 28,
   "metadata": {
    "collapsed": false
   },
   "outputs": [
    {
     "ename": "AttributeError",
     "evalue": "'str' object has no attribute 'write'",
     "output_type": "error",
     "traceback": [
      "\u001b[0;31m---------------------------------------------------------------------------\u001b[0m",
      "\u001b[0;31mAttributeError\u001b[0m                            Traceback (most recent call last)",
      "\u001b[0;32m<ipython-input-28-69e5bec7b714>\u001b[0m in \u001b[0;36m<module>\u001b[0;34m()\u001b[0m\n\u001b[0;32m----> 1\u001b[0;31m \u001b[0mwritePage\u001b[0m\u001b[0;34m(\u001b[0m\u001b[0;36m1\u001b[0m\u001b[0;34m)\u001b[0m\u001b[0;34m\u001b[0m\u001b[0m\n\u001b[0m",
      "\u001b[0;32m<ipython-input-27-4ba3461c66ad>\u001b[0m in \u001b[0;36mwritePage\u001b[0;34m(number)\u001b[0m\n\u001b[1;32m      1\u001b[0m \u001b[0;32mdef\u001b[0m \u001b[0mwritePage\u001b[0m\u001b[0;34m(\u001b[0m\u001b[0mnumber\u001b[0m\u001b[0;34m)\u001b[0m\u001b[0;34m:\u001b[0m\u001b[0;34m\u001b[0m\u001b[0m\n\u001b[0;32m----> 2\u001b[0;31m     \u001b[0mprint\u001b[0m\u001b[0;34m(\u001b[0m\u001b[0mstr\u001b[0m\u001b[0;34m(\u001b[0m\u001b[0mi\u001b[0m\u001b[0;34m)\u001b[0m\u001b[0;34m,\u001b[0m \u001b[0mfile\u001b[0m\u001b[0;34m=\u001b[0m\u001b[0mcurrentPageFile\u001b[0m\u001b[0;34m)\u001b[0m\u001b[0;34m\u001b[0m\u001b[0m\n\u001b[0m",
      "\u001b[0;31mAttributeError\u001b[0m: 'str' object has no attribute 'write'"
     ]
    }
   ],
   "source": [
    "writePage(1)"
   ]
  },
  {
   "cell_type": "code",
   "execution_count": 29,
   "metadata": {
    "collapsed": true
   },
   "outputs": [],
   "source": [
    "def writePage(number):\n",
    "    f = open(currentPageFile, 'w')\n",
    "    f.write(str(number))  # python will convert \\n to os.linesep\n",
    "    f.close()  # you can omit in most cases as the destructor will call it\n",
    "    return \"ok\"\n"
   ]
  },
  {
   "cell_type": "code",
   "execution_count": 30,
   "metadata": {
    "collapsed": false
   },
   "outputs": [
    {
     "data": {
      "text/plain": [
       "'ok'"
      ]
     },
     "execution_count": 30,
     "metadata": {},
     "output_type": "execute_result"
    }
   ],
   "source": [
    "writePage(1)"
   ]
  },
  {
   "cell_type": "code",
   "execution_count": 36,
   "metadata": {
    "collapsed": true
   },
   "outputs": [],
   "source": [
    "def writePage(number, quantity):\n",
    "    f = open(currentPageFile, 'w')\n",
    "    f.write(str(number)+ \"\\t\" + str(quantity))  # python will convert \\n to os.linesep\n",
    "    f.close()  # you can omit in most cases as the destructor will call it\n",
    "    return \"ok\"\n",
    "\n",
    "\n",
    "def readPage():\n",
    "    file = open(currentPageFile, \"r\")\n",
    "    for line in file:\n",
    "        number, quantity = line.split(\"\\t\")\n",
    "    return int(number), int(quantity)"
   ]
  },
  {
   "cell_type": "code",
   "execution_count": 39,
   "metadata": {
    "collapsed": false
   },
   "outputs": [
    {
     "data": {
      "text/plain": [
       "'ok'"
      ]
     },
     "execution_count": 39,
     "metadata": {},
     "output_type": "execute_result"
    }
   ],
   "source": [
    "writePage(1,231)"
   ]
  },
  {
   "cell_type": "code",
   "execution_count": null,
   "metadata": {
    "collapsed": false
   },
   "outputs": [],
   "source": []
  },
  {
   "cell_type": "code",
   "execution_count": 38,
   "metadata": {
    "collapsed": false,
    "scrolled": true
   },
   "outputs": [
    {
     "data": {
      "text/plain": [
       "(1, 231)"
      ]
     },
     "execution_count": 38,
     "metadata": {},
     "output_type": "execute_result"
    }
   ],
   "source": [
    "readPage()"
   ]
  },
  {
   "cell_type": "code",
   "execution_count": null,
   "metadata": {
    "collapsed": true
   },
   "outputs": [],
   "source": []
  }
 ],
 "metadata": {
  "kernelspec": {
   "display_name": "Python 3",
   "language": "python",
   "name": "python3"
  },
  "language_info": {
   "codemirror_mode": {
    "name": "ipython",
    "version": 3
   },
   "file_extension": ".py",
   "mimetype": "text/x-python",
   "name": "python",
   "nbconvert_exporter": "python",
   "pygments_lexer": "ipython3",
   "version": "3.4.1"
  }
 },
 "nbformat": 4,
 "nbformat_minor": 0
}
